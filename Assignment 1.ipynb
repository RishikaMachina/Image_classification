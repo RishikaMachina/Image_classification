{
 "cells": [
  {
   "cell_type": "markdown",
   "metadata": {},
   "source": [
    "## Reading data from .dat files"
   ]
  },
  {
   "cell_type": "code",
   "execution_count": 1,
   "metadata": {},
   "outputs": [
    {
     "data": {
      "text/html": [
       "<div>\n",
       "<style scoped>\n",
       "    .dataframe tbody tr th:only-of-type {\n",
       "        vertical-align: middle;\n",
       "    }\n",
       "\n",
       "    .dataframe tbody tr th {\n",
       "        vertical-align: top;\n",
       "    }\n",
       "\n",
       "    .dataframe thead th {\n",
       "        text-align: right;\n",
       "    }\n",
       "</style>\n",
       "<table border=\"1\" class=\"dataframe\">\n",
       "  <thead>\n",
       "    <tr style=\"text-align: right;\">\n",
       "      <th></th>\n",
       "      <th>0</th>\n",
       "      <th>1</th>\n",
       "      <th>2</th>\n",
       "      <th>3</th>\n",
       "      <th>4</th>\n",
       "      <th>5</th>\n",
       "      <th>6</th>\n",
       "      <th>7</th>\n",
       "      <th>8</th>\n",
       "      <th>9</th>\n",
       "      <th>...</th>\n",
       "      <th>877</th>\n",
       "      <th>878</th>\n",
       "      <th>879</th>\n",
       "      <th>880</th>\n",
       "      <th>881</th>\n",
       "      <th>882</th>\n",
       "      <th>883</th>\n",
       "      <th>884</th>\n",
       "      <th>885</th>\n",
       "      <th>886</th>\n",
       "    </tr>\n",
       "  </thead>\n",
       "  <tbody>\n",
       "    <tr>\n",
       "      <th>0</th>\n",
       "      <td>1.017782897407065157e+01</td>\n",
       "      <td>1.017782897407065157e+01</td>\n",
       "      <td>1.017782897407065157e+01</td>\n",
       "      <td>5.765478662770244789e+00</td>\n",
       "      <td>1.017782897407065157e+01</td>\n",
       "      <td>1.017782897407065157e+01</td>\n",
       "      <td>4.982583455110800585e+00</td>\n",
       "      <td>7.986465830899695639e+00</td>\n",
       "      <td>4.803416452407069936e-01</td>\n",
       "      <td>2.385175183264099719e+00</td>\n",
       "      <td>...</td>\n",
       "      <td>2.525252522900700569e-03</td>\n",
       "      <td>1.104797935113310814e-03</td>\n",
       "      <td>1.807133853435516357e-02</td>\n",
       "      <td>4.320276497695754725e-02</td>\n",
       "      <td>2.021889400921613178e-01</td>\n",
       "      <td>3.047235023041405810e-01</td>\n",
       "      <td>6.301843317972207759e-01</td>\n",
       "      <td>5.489631336405406126e-01</td>\n",
       "      <td>6.388248847926122354e-01</td>\n",
       "      <td>5.990783410138112997e-01</td>\n",
       "    </tr>\n",
       "    <tr>\n",
       "      <th>1</th>\n",
       "      <td>1.017782897407065157e+01</td>\n",
       "      <td>1.017782897407065157e+01</td>\n",
       "      <td>1.017782897407065157e+01</td>\n",
       "      <td>5.765478662770244789e+00</td>\n",
       "      <td>1.017782897407065157e+01</td>\n",
       "      <td>1.017782897407065157e+01</td>\n",
       "      <td>4.982583455110800585e+00</td>\n",
       "      <td>7.986465830899695639e+00</td>\n",
       "      <td>4.803416452407069936e-01</td>\n",
       "      <td>2.385175183264099719e+00</td>\n",
       "      <td>...</td>\n",
       "      <td>1.025640987791121006e-03</td>\n",
       "      <td>0.000000000000000000e+00</td>\n",
       "      <td>1.846153847873210907e-02</td>\n",
       "      <td>4.320276497695754725e-02</td>\n",
       "      <td>2.021889400921613178e-01</td>\n",
       "      <td>3.047235023041405810e-01</td>\n",
       "      <td>6.301843317972207759e-01</td>\n",
       "      <td>5.489631336405406126e-01</td>\n",
       "      <td>6.388248847926122354e-01</td>\n",
       "      <td>5.990783410138112997e-01</td>\n",
       "    </tr>\n",
       "    <tr>\n",
       "      <th>2</th>\n",
       "      <td>1.017782897407065157e+01</td>\n",
       "      <td>1.017782897407065157e+01</td>\n",
       "      <td>1.017782897407065157e+01</td>\n",
       "      <td>5.765478662770244789e+00</td>\n",
       "      <td>1.017782897407065157e+01</td>\n",
       "      <td>1.017782897407065157e+01</td>\n",
       "      <td>4.982583455110800585e+00</td>\n",
       "      <td>7.986465830899695639e+00</td>\n",
       "      <td>4.803416452407069936e-01</td>\n",
       "      <td>2.385175183264099719e+00</td>\n",
       "      <td>...</td>\n",
       "      <td>1.102281454950571060e-02</td>\n",
       "      <td>6.921302061527967453e-03</td>\n",
       "      <td>5.331966280937194824e-02</td>\n",
       "      <td>4.320276497695754725e-02</td>\n",
       "      <td>2.021889400921613178e-01</td>\n",
       "      <td>3.047235023041405810e-01</td>\n",
       "      <td>6.301843317972207759e-01</td>\n",
       "      <td>5.489631336405406126e-01</td>\n",
       "      <td>6.388248847926122354e-01</td>\n",
       "      <td>5.990783410138112997e-01</td>\n",
       "    </tr>\n",
       "    <tr>\n",
       "      <th>3</th>\n",
       "      <td>1.017782897407065157e+01</td>\n",
       "      <td>1.017782897407065157e+01</td>\n",
       "      <td>1.017782897407065157e+01</td>\n",
       "      <td>5.765478662770244789e+00</td>\n",
       "      <td>1.017782897407065157e+01</td>\n",
       "      <td>1.017782897407065157e+01</td>\n",
       "      <td>4.982583455110800585e+00</td>\n",
       "      <td>7.986465830899695639e+00</td>\n",
       "      <td>4.803416452407069936e-01</td>\n",
       "      <td>2.385175183264099719e+00</td>\n",
       "      <td>...</td>\n",
       "      <td>0.000000000000000000e+00</td>\n",
       "      <td>9.191176504828035831e-04</td>\n",
       "      <td>3.033088147640228271e-02</td>\n",
       "      <td>4.320276497695754725e-02</td>\n",
       "      <td>2.021889400921613178e-01</td>\n",
       "      <td>3.047235023041405810e-01</td>\n",
       "      <td>6.301843317972207759e-01</td>\n",
       "      <td>5.489631336405406126e-01</td>\n",
       "      <td>6.388248847926122354e-01</td>\n",
       "      <td>5.990783410138112997e-01</td>\n",
       "    </tr>\n",
       "    <tr>\n",
       "      <th>4</th>\n",
       "      <td>1.017782897407065157e+01</td>\n",
       "      <td>1.017782897407065157e+01</td>\n",
       "      <td>1.017782897407065157e+01</td>\n",
       "      <td>5.765478662770244789e+00</td>\n",
       "      <td>1.017782897407065157e+01</td>\n",
       "      <td>1.017782897407065157e+01</td>\n",
       "      <td>4.982583455110800585e+00</td>\n",
       "      <td>7.986465830899695639e+00</td>\n",
       "      <td>4.803416452407069936e-01</td>\n",
       "      <td>2.385175183264099719e+00</td>\n",
       "      <td>...</td>\n",
       "      <td>3.865979379042983055e-03</td>\n",
       "      <td>1.073883147910237312e-03</td>\n",
       "      <td>2.555841952562332153e-02</td>\n",
       "      <td>4.320276497695754725e-02</td>\n",
       "      <td>2.021889400921613178e-01</td>\n",
       "      <td>3.047235023041405810e-01</td>\n",
       "      <td>6.301843317972207759e-01</td>\n",
       "      <td>5.489631336405406126e-01</td>\n",
       "      <td>6.388248847926122354e-01</td>\n",
       "      <td>5.990783410138112997e-01</td>\n",
       "    </tr>\n",
       "  </tbody>\n",
       "</table>\n",
       "<p>5 rows × 887 columns</p>\n",
       "</div>"
      ],
      "text/plain": [
       "                          0                         1  \\\n",
       "0  1.017782897407065157e+01  1.017782897407065157e+01   \n",
       "1  1.017782897407065157e+01  1.017782897407065157e+01   \n",
       "2  1.017782897407065157e+01  1.017782897407065157e+01   \n",
       "3  1.017782897407065157e+01  1.017782897407065157e+01   \n",
       "4  1.017782897407065157e+01  1.017782897407065157e+01   \n",
       "\n",
       "                          2                         3  \\\n",
       "0  1.017782897407065157e+01  5.765478662770244789e+00   \n",
       "1  1.017782897407065157e+01  5.765478662770244789e+00   \n",
       "2  1.017782897407065157e+01  5.765478662770244789e+00   \n",
       "3  1.017782897407065157e+01  5.765478662770244789e+00   \n",
       "4  1.017782897407065157e+01  5.765478662770244789e+00   \n",
       "\n",
       "                          4                         5  \\\n",
       "0  1.017782897407065157e+01  1.017782897407065157e+01   \n",
       "1  1.017782897407065157e+01  1.017782897407065157e+01   \n",
       "2  1.017782897407065157e+01  1.017782897407065157e+01   \n",
       "3  1.017782897407065157e+01  1.017782897407065157e+01   \n",
       "4  1.017782897407065157e+01  1.017782897407065157e+01   \n",
       "\n",
       "                          6                         7  \\\n",
       "0  4.982583455110800585e+00  7.986465830899695639e+00   \n",
       "1  4.982583455110800585e+00  7.986465830899695639e+00   \n",
       "2  4.982583455110800585e+00  7.986465830899695639e+00   \n",
       "3  4.982583455110800585e+00  7.986465830899695639e+00   \n",
       "4  4.982583455110800585e+00  7.986465830899695639e+00   \n",
       "\n",
       "                          8                         9  ...  \\\n",
       "0  4.803416452407069936e-01  2.385175183264099719e+00  ...   \n",
       "1  4.803416452407069936e-01  2.385175183264099719e+00  ...   \n",
       "2  4.803416452407069936e-01  2.385175183264099719e+00  ...   \n",
       "3  4.803416452407069936e-01  2.385175183264099719e+00  ...   \n",
       "4  4.803416452407069936e-01  2.385175183264099719e+00  ...   \n",
       "\n",
       "                        877                       878  \\\n",
       "0  2.525252522900700569e-03  1.104797935113310814e-03   \n",
       "1  1.025640987791121006e-03  0.000000000000000000e+00   \n",
       "2  1.102281454950571060e-02  6.921302061527967453e-03   \n",
       "3  0.000000000000000000e+00  9.191176504828035831e-04   \n",
       "4  3.865979379042983055e-03  1.073883147910237312e-03   \n",
       "\n",
       "                        879                       880  \\\n",
       "0  1.807133853435516357e-02  4.320276497695754725e-02   \n",
       "1  1.846153847873210907e-02  4.320276497695754725e-02   \n",
       "2  5.331966280937194824e-02  4.320276497695754725e-02   \n",
       "3  3.033088147640228271e-02  4.320276497695754725e-02   \n",
       "4  2.555841952562332153e-02  4.320276497695754725e-02   \n",
       "\n",
       "                        881                       882  \\\n",
       "0  2.021889400921613178e-01  3.047235023041405810e-01   \n",
       "1  2.021889400921613178e-01  3.047235023041405810e-01   \n",
       "2  2.021889400921613178e-01  3.047235023041405810e-01   \n",
       "3  2.021889400921613178e-01  3.047235023041405810e-01   \n",
       "4  2.021889400921613178e-01  3.047235023041405810e-01   \n",
       "\n",
       "                        883                       884  \\\n",
       "0  6.301843317972207759e-01  5.489631336405406126e-01   \n",
       "1  6.301843317972207759e-01  5.489631336405406126e-01   \n",
       "2  6.301843317972207759e-01  5.489631336405406126e-01   \n",
       "3  6.301843317972207759e-01  5.489631336405406126e-01   \n",
       "4  6.301843317972207759e-01  5.489631336405406126e-01   \n",
       "\n",
       "                        885                       886  \n",
       "0  6.388248847926122354e-01  5.990783410138112997e-01  \n",
       "1  6.388248847926122354e-01  5.990783410138112997e-01  \n",
       "2  6.388248847926122354e-01  5.990783410138112997e-01  \n",
       "3  6.388248847926122354e-01  5.990783410138112997e-01  \n",
       "4  6.388248847926122354e-01  5.990783410138112997e-01  \n",
       "\n",
       "[5 rows x 887 columns]"
      ]
     },
     "execution_count": 1,
     "metadata": {},
     "output_type": "execute_result"
    }
   ],
   "source": [
    "import pandas as pd\n",
    "import numpy as np\n",
    "\n",
    "\n",
    "df = pd.read_csv('train.dat', names = [\"features\"], header = None)\n",
    "df = pd.DataFrame(df.features.str.split(' ', expand=True).values, columns=[str(i) for i in range(887)])\n",
    "\n",
    "labels_df = pd.read_csv('train.labels', names = [\"label\"], header = None)\n",
    "df.head()"
   ]
  },
  {
   "cell_type": "code",
   "execution_count": 2,
   "metadata": {},
   "outputs": [
    {
     "name": "stdout",
     "output_type": "stream",
     "text": [
      "(3000, 887)\n"
     ]
    },
    {
     "data": {
      "text/html": [
       "<div>\n",
       "<style scoped>\n",
       "    .dataframe tbody tr th:only-of-type {\n",
       "        vertical-align: middle;\n",
       "    }\n",
       "\n",
       "    .dataframe tbody tr th {\n",
       "        vertical-align: top;\n",
       "    }\n",
       "\n",
       "    .dataframe thead th {\n",
       "        text-align: right;\n",
       "    }\n",
       "</style>\n",
       "<table border=\"1\" class=\"dataframe\">\n",
       "  <thead>\n",
       "    <tr style=\"text-align: right;\">\n",
       "      <th></th>\n",
       "      <th>0</th>\n",
       "      <th>1</th>\n",
       "      <th>2</th>\n",
       "      <th>3</th>\n",
       "      <th>4</th>\n",
       "      <th>5</th>\n",
       "      <th>6</th>\n",
       "      <th>7</th>\n",
       "      <th>8</th>\n",
       "      <th>9</th>\n",
       "      <th>...</th>\n",
       "      <th>877</th>\n",
       "      <th>878</th>\n",
       "      <th>879</th>\n",
       "      <th>880</th>\n",
       "      <th>881</th>\n",
       "      <th>882</th>\n",
       "      <th>883</th>\n",
       "      <th>884</th>\n",
       "      <th>885</th>\n",
       "      <th>886</th>\n",
       "    </tr>\n",
       "  </thead>\n",
       "  <tbody>\n",
       "    <tr>\n",
       "      <th>0</th>\n",
       "      <td>1.017782897407065157e+01</td>\n",
       "      <td>1.017782897407065157e+01</td>\n",
       "      <td>1.017782897407065157e+01</td>\n",
       "      <td>5.765478662770244789e+00</td>\n",
       "      <td>1.017782897407065157e+01</td>\n",
       "      <td>1.017782897407065157e+01</td>\n",
       "      <td>4.982583455110800585e+00</td>\n",
       "      <td>7.986465830899695639e+00</td>\n",
       "      <td>4.803416452407069936e-01</td>\n",
       "      <td>2.385175183264099719e+00</td>\n",
       "      <td>...</td>\n",
       "      <td>3.324808087199926376e-03</td>\n",
       "      <td>1.960784429684281349e-03</td>\n",
       "      <td>2.259164489805698395e-02</td>\n",
       "      <td>4.320276497695754725e-02</td>\n",
       "      <td>2.021889400921613178e-01</td>\n",
       "      <td>3.047235023041405810e-01</td>\n",
       "      <td>6.301843317972207759e-01</td>\n",
       "      <td>5.489631336405406126e-01</td>\n",
       "      <td>6.388248847926122354e-01</td>\n",
       "      <td>5.990783410138112997e-01</td>\n",
       "    </tr>\n",
       "    <tr>\n",
       "      <th>1</th>\n",
       "      <td>1.017782897407065157e+01</td>\n",
       "      <td>1.017782897407065157e+01</td>\n",
       "      <td>1.017782897407065157e+01</td>\n",
       "      <td>5.765478662770244789e+00</td>\n",
       "      <td>1.017782897407065157e+01</td>\n",
       "      <td>1.017782897407065157e+01</td>\n",
       "      <td>4.982583455110800585e+00</td>\n",
       "      <td>7.986465830899695639e+00</td>\n",
       "      <td>4.803416452407069936e-01</td>\n",
       "      <td>2.385175183264099719e+00</td>\n",
       "      <td>...</td>\n",
       "      <td>2.079002093523740768e-03</td>\n",
       "      <td>2.494802465662360191e-03</td>\n",
       "      <td>1.954261958599090576e-02</td>\n",
       "      <td>4.320276497695754725e-02</td>\n",
       "      <td>2.021889400921613178e-01</td>\n",
       "      <td>3.047235023041405810e-01</td>\n",
       "      <td>6.301843317972207759e-01</td>\n",
       "      <td>5.489631336405406126e-01</td>\n",
       "      <td>6.388248847926122354e-01</td>\n",
       "      <td>5.990783410138112997e-01</td>\n",
       "    </tr>\n",
       "  </tbody>\n",
       "</table>\n",
       "<p>2 rows × 887 columns</p>\n",
       "</div>"
      ],
      "text/plain": [
       "                          0                         1  \\\n",
       "0  1.017782897407065157e+01  1.017782897407065157e+01   \n",
       "1  1.017782897407065157e+01  1.017782897407065157e+01   \n",
       "\n",
       "                          2                         3  \\\n",
       "0  1.017782897407065157e+01  5.765478662770244789e+00   \n",
       "1  1.017782897407065157e+01  5.765478662770244789e+00   \n",
       "\n",
       "                          4                         5  \\\n",
       "0  1.017782897407065157e+01  1.017782897407065157e+01   \n",
       "1  1.017782897407065157e+01  1.017782897407065157e+01   \n",
       "\n",
       "                          6                         7  \\\n",
       "0  4.982583455110800585e+00  7.986465830899695639e+00   \n",
       "1  4.982583455110800585e+00  7.986465830899695639e+00   \n",
       "\n",
       "                          8                         9  ...  \\\n",
       "0  4.803416452407069936e-01  2.385175183264099719e+00  ...   \n",
       "1  4.803416452407069936e-01  2.385175183264099719e+00  ...   \n",
       "\n",
       "                        877                       878  \\\n",
       "0  3.324808087199926376e-03  1.960784429684281349e-03   \n",
       "1  2.079002093523740768e-03  2.494802465662360191e-03   \n",
       "\n",
       "                        879                       880  \\\n",
       "0  2.259164489805698395e-02  4.320276497695754725e-02   \n",
       "1  1.954261958599090576e-02  4.320276497695754725e-02   \n",
       "\n",
       "                        881                       882  \\\n",
       "0  2.021889400921613178e-01  3.047235023041405810e-01   \n",
       "1  2.021889400921613178e-01  3.047235023041405810e-01   \n",
       "\n",
       "                        883                       884  \\\n",
       "0  6.301843317972207759e-01  5.489631336405406126e-01   \n",
       "1  6.301843317972207759e-01  5.489631336405406126e-01   \n",
       "\n",
       "                        885                       886  \n",
       "0  6.388248847926122354e-01  5.990783410138112997e-01  \n",
       "1  6.388248847926122354e-01  5.990783410138112997e-01  \n",
       "\n",
       "[2 rows x 887 columns]"
      ]
     },
     "execution_count": 2,
     "metadata": {},
     "output_type": "execute_result"
    }
   ],
   "source": [
    "test_df = pd.read_csv('test.dat', names = [\"features\"], header = None)\n",
    "test_df = pd.DataFrame(test_df.features.str.split(' ', expand=True).values, columns=[str(i) for i in range(887)])\n",
    "\n",
    "print(test_df.shape)\n",
    "test_df.head(2)"
   ]
  },
  {
   "cell_type": "code",
   "execution_count": 3,
   "metadata": {},
   "outputs": [
    {
     "name": "stdout",
     "output_type": "stream",
     "text": [
      "   label\n",
      "0      2\n",
      "1      1\n",
      "2      1\n",
      "3      1\n",
      "4      2\n",
      "\n"
     ]
    },
    {
     "data": {
      "text/html": [
       "<div>\n",
       "<style scoped>\n",
       "    .dataframe tbody tr th:only-of-type {\n",
       "        vertical-align: middle;\n",
       "    }\n",
       "\n",
       "    .dataframe tbody tr th {\n",
       "        vertical-align: top;\n",
       "    }\n",
       "\n",
       "    .dataframe thead th {\n",
       "        text-align: right;\n",
       "    }\n",
       "</style>\n",
       "<table border=\"1\" class=\"dataframe\">\n",
       "  <thead>\n",
       "    <tr style=\"text-align: right;\">\n",
       "      <th></th>\n",
       "      <th>0</th>\n",
       "      <th>1</th>\n",
       "      <th>2</th>\n",
       "      <th>3</th>\n",
       "      <th>4</th>\n",
       "      <th>5</th>\n",
       "      <th>6</th>\n",
       "      <th>7</th>\n",
       "      <th>8</th>\n",
       "      <th>9</th>\n",
       "      <th>...</th>\n",
       "      <th>877</th>\n",
       "      <th>878</th>\n",
       "      <th>879</th>\n",
       "      <th>880</th>\n",
       "      <th>881</th>\n",
       "      <th>882</th>\n",
       "      <th>883</th>\n",
       "      <th>884</th>\n",
       "      <th>885</th>\n",
       "      <th>886</th>\n",
       "    </tr>\n",
       "  </thead>\n",
       "  <tbody>\n",
       "    <tr>\n",
       "      <th>0</th>\n",
       "      <td>1.017782897407065157e+01</td>\n",
       "      <td>1.017782897407065157e+01</td>\n",
       "      <td>1.017782897407065157e+01</td>\n",
       "      <td>5.765478662770244789e+00</td>\n",
       "      <td>1.017782897407065157e+01</td>\n",
       "      <td>1.017782897407065157e+01</td>\n",
       "      <td>4.982583455110800585e+00</td>\n",
       "      <td>7.986465830899695639e+00</td>\n",
       "      <td>4.803416452407069936e-01</td>\n",
       "      <td>2.385175183264099719e+00</td>\n",
       "      <td>...</td>\n",
       "      <td>2.525252522900700569e-03</td>\n",
       "      <td>1.104797935113310814e-03</td>\n",
       "      <td>1.807133853435516357e-02</td>\n",
       "      <td>4.320276497695754725e-02</td>\n",
       "      <td>2.021889400921613178e-01</td>\n",
       "      <td>3.047235023041405810e-01</td>\n",
       "      <td>6.301843317972207759e-01</td>\n",
       "      <td>5.489631336405406126e-01</td>\n",
       "      <td>6.388248847926122354e-01</td>\n",
       "      <td>5.990783410138112997e-01</td>\n",
       "    </tr>\n",
       "    <tr>\n",
       "      <th>1</th>\n",
       "      <td>1.017782897407065157e+01</td>\n",
       "      <td>1.017782897407065157e+01</td>\n",
       "      <td>1.017782897407065157e+01</td>\n",
       "      <td>5.765478662770244789e+00</td>\n",
       "      <td>1.017782897407065157e+01</td>\n",
       "      <td>1.017782897407065157e+01</td>\n",
       "      <td>4.982583455110800585e+00</td>\n",
       "      <td>7.986465830899695639e+00</td>\n",
       "      <td>4.803416452407069936e-01</td>\n",
       "      <td>2.385175183264099719e+00</td>\n",
       "      <td>...</td>\n",
       "      <td>1.025640987791121006e-03</td>\n",
       "      <td>0.000000000000000000e+00</td>\n",
       "      <td>1.846153847873210907e-02</td>\n",
       "      <td>4.320276497695754725e-02</td>\n",
       "      <td>2.021889400921613178e-01</td>\n",
       "      <td>3.047235023041405810e-01</td>\n",
       "      <td>6.301843317972207759e-01</td>\n",
       "      <td>5.489631336405406126e-01</td>\n",
       "      <td>6.388248847926122354e-01</td>\n",
       "      <td>5.990783410138112997e-01</td>\n",
       "    </tr>\n",
       "    <tr>\n",
       "      <th>2</th>\n",
       "      <td>1.017782897407065157e+01</td>\n",
       "      <td>1.017782897407065157e+01</td>\n",
       "      <td>1.017782897407065157e+01</td>\n",
       "      <td>5.765478662770244789e+00</td>\n",
       "      <td>1.017782897407065157e+01</td>\n",
       "      <td>1.017782897407065157e+01</td>\n",
       "      <td>4.982583455110800585e+00</td>\n",
       "      <td>7.986465830899695639e+00</td>\n",
       "      <td>4.803416452407069936e-01</td>\n",
       "      <td>2.385175183264099719e+00</td>\n",
       "      <td>...</td>\n",
       "      <td>1.102281454950571060e-02</td>\n",
       "      <td>6.921302061527967453e-03</td>\n",
       "      <td>5.331966280937194824e-02</td>\n",
       "      <td>4.320276497695754725e-02</td>\n",
       "      <td>2.021889400921613178e-01</td>\n",
       "      <td>3.047235023041405810e-01</td>\n",
       "      <td>6.301843317972207759e-01</td>\n",
       "      <td>5.489631336405406126e-01</td>\n",
       "      <td>6.388248847926122354e-01</td>\n",
       "      <td>5.990783410138112997e-01</td>\n",
       "    </tr>\n",
       "    <tr>\n",
       "      <th>3</th>\n",
       "      <td>1.017782897407065157e+01</td>\n",
       "      <td>1.017782897407065157e+01</td>\n",
       "      <td>1.017782897407065157e+01</td>\n",
       "      <td>5.765478662770244789e+00</td>\n",
       "      <td>1.017782897407065157e+01</td>\n",
       "      <td>1.017782897407065157e+01</td>\n",
       "      <td>4.982583455110800585e+00</td>\n",
       "      <td>7.986465830899695639e+00</td>\n",
       "      <td>4.803416452407069936e-01</td>\n",
       "      <td>2.385175183264099719e+00</td>\n",
       "      <td>...</td>\n",
       "      <td>0.000000000000000000e+00</td>\n",
       "      <td>9.191176504828035831e-04</td>\n",
       "      <td>3.033088147640228271e-02</td>\n",
       "      <td>4.320276497695754725e-02</td>\n",
       "      <td>2.021889400921613178e-01</td>\n",
       "      <td>3.047235023041405810e-01</td>\n",
       "      <td>6.301843317972207759e-01</td>\n",
       "      <td>5.489631336405406126e-01</td>\n",
       "      <td>6.388248847926122354e-01</td>\n",
       "      <td>5.990783410138112997e-01</td>\n",
       "    </tr>\n",
       "    <tr>\n",
       "      <th>4</th>\n",
       "      <td>1.017782897407065157e+01</td>\n",
       "      <td>1.017782897407065157e+01</td>\n",
       "      <td>1.017782897407065157e+01</td>\n",
       "      <td>5.765478662770244789e+00</td>\n",
       "      <td>1.017782897407065157e+01</td>\n",
       "      <td>1.017782897407065157e+01</td>\n",
       "      <td>4.982583455110800585e+00</td>\n",
       "      <td>7.986465830899695639e+00</td>\n",
       "      <td>4.803416452407069936e-01</td>\n",
       "      <td>2.385175183264099719e+00</td>\n",
       "      <td>...</td>\n",
       "      <td>3.865979379042983055e-03</td>\n",
       "      <td>1.073883147910237312e-03</td>\n",
       "      <td>2.555841952562332153e-02</td>\n",
       "      <td>4.320276497695754725e-02</td>\n",
       "      <td>2.021889400921613178e-01</td>\n",
       "      <td>3.047235023041405810e-01</td>\n",
       "      <td>6.301843317972207759e-01</td>\n",
       "      <td>5.489631336405406126e-01</td>\n",
       "      <td>6.388248847926122354e-01</td>\n",
       "      <td>5.990783410138112997e-01</td>\n",
       "    </tr>\n",
       "  </tbody>\n",
       "</table>\n",
       "<p>5 rows × 887 columns</p>\n",
       "</div>"
      ],
      "text/plain": [
       "                          0                         1  \\\n",
       "0  1.017782897407065157e+01  1.017782897407065157e+01   \n",
       "1  1.017782897407065157e+01  1.017782897407065157e+01   \n",
       "2  1.017782897407065157e+01  1.017782897407065157e+01   \n",
       "3  1.017782897407065157e+01  1.017782897407065157e+01   \n",
       "4  1.017782897407065157e+01  1.017782897407065157e+01   \n",
       "\n",
       "                          2                         3  \\\n",
       "0  1.017782897407065157e+01  5.765478662770244789e+00   \n",
       "1  1.017782897407065157e+01  5.765478662770244789e+00   \n",
       "2  1.017782897407065157e+01  5.765478662770244789e+00   \n",
       "3  1.017782897407065157e+01  5.765478662770244789e+00   \n",
       "4  1.017782897407065157e+01  5.765478662770244789e+00   \n",
       "\n",
       "                          4                         5  \\\n",
       "0  1.017782897407065157e+01  1.017782897407065157e+01   \n",
       "1  1.017782897407065157e+01  1.017782897407065157e+01   \n",
       "2  1.017782897407065157e+01  1.017782897407065157e+01   \n",
       "3  1.017782897407065157e+01  1.017782897407065157e+01   \n",
       "4  1.017782897407065157e+01  1.017782897407065157e+01   \n",
       "\n",
       "                          6                         7  \\\n",
       "0  4.982583455110800585e+00  7.986465830899695639e+00   \n",
       "1  4.982583455110800585e+00  7.986465830899695639e+00   \n",
       "2  4.982583455110800585e+00  7.986465830899695639e+00   \n",
       "3  4.982583455110800585e+00  7.986465830899695639e+00   \n",
       "4  4.982583455110800585e+00  7.986465830899695639e+00   \n",
       "\n",
       "                          8                         9  ...  \\\n",
       "0  4.803416452407069936e-01  2.385175183264099719e+00  ...   \n",
       "1  4.803416452407069936e-01  2.385175183264099719e+00  ...   \n",
       "2  4.803416452407069936e-01  2.385175183264099719e+00  ...   \n",
       "3  4.803416452407069936e-01  2.385175183264099719e+00  ...   \n",
       "4  4.803416452407069936e-01  2.385175183264099719e+00  ...   \n",
       "\n",
       "                        877                       878  \\\n",
       "0  2.525252522900700569e-03  1.104797935113310814e-03   \n",
       "1  1.025640987791121006e-03  0.000000000000000000e+00   \n",
       "2  1.102281454950571060e-02  6.921302061527967453e-03   \n",
       "3  0.000000000000000000e+00  9.191176504828035831e-04   \n",
       "4  3.865979379042983055e-03  1.073883147910237312e-03   \n",
       "\n",
       "                        879                       880  \\\n",
       "0  1.807133853435516357e-02  4.320276497695754725e-02   \n",
       "1  1.846153847873210907e-02  4.320276497695754725e-02   \n",
       "2  5.331966280937194824e-02  4.320276497695754725e-02   \n",
       "3  3.033088147640228271e-02  4.320276497695754725e-02   \n",
       "4  2.555841952562332153e-02  4.320276497695754725e-02   \n",
       "\n",
       "                        881                       882  \\\n",
       "0  2.021889400921613178e-01  3.047235023041405810e-01   \n",
       "1  2.021889400921613178e-01  3.047235023041405810e-01   \n",
       "2  2.021889400921613178e-01  3.047235023041405810e-01   \n",
       "3  2.021889400921613178e-01  3.047235023041405810e-01   \n",
       "4  2.021889400921613178e-01  3.047235023041405810e-01   \n",
       "\n",
       "                        883                       884  \\\n",
       "0  6.301843317972207759e-01  5.489631336405406126e-01   \n",
       "1  6.301843317972207759e-01  5.489631336405406126e-01   \n",
       "2  6.301843317972207759e-01  5.489631336405406126e-01   \n",
       "3  6.301843317972207759e-01  5.489631336405406126e-01   \n",
       "4  6.301843317972207759e-01  5.489631336405406126e-01   \n",
       "\n",
       "                        885                       886  \n",
       "0  6.388248847926122354e-01  5.990783410138112997e-01  \n",
       "1  6.388248847926122354e-01  5.990783410138112997e-01  \n",
       "2  6.388248847926122354e-01  5.990783410138112997e-01  \n",
       "3  6.388248847926122354e-01  5.990783410138112997e-01  \n",
       "4  6.388248847926122354e-01  5.990783410138112997e-01  \n",
       "\n",
       "[5 rows x 887 columns]"
      ]
     },
     "execution_count": 3,
     "metadata": {},
     "output_type": "execute_result"
    }
   ],
   "source": [
    "print(labels_df.head(5))\n",
    "print()\n",
    "df.head(5)"
   ]
  },
  {
   "cell_type": "markdown",
   "metadata": {},
   "source": [
    "## Preprocessing "
   ]
  },
  {
   "cell_type": "code",
   "execution_count": 61,
   "metadata": {
    "scrolled": false
   },
   "outputs": [
    {
     "data": {
      "text/plain": [
       "1     8841\n",
       "2     6506\n",
       "3     1467\n",
       "8      704\n",
       "4      249\n",
       "5      168\n",
       "7       45\n",
       "6       12\n",
       "11       6\n",
       "10       2\n",
       "Name: label, dtype: int64"
      ]
     },
     "execution_count": 61,
     "metadata": {},
     "output_type": "execute_result"
    }
   ],
   "source": [
    "a = labels_df['label'].value_counts()\n",
    "a"
   ]
  },
  {
   "cell_type": "code",
   "execution_count": 62,
   "metadata": {},
   "outputs": [
    {
     "data": {
      "text/plain": [
       "pandas.core.series.Series"
      ]
     },
     "execution_count": 62,
     "metadata": {},
     "output_type": "execute_result"
    }
   ],
   "source": [
    "type(a)"
   ]
  },
  {
   "cell_type": "code",
   "execution_count": 63,
   "metadata": {},
   "outputs": [
    {
     "data": {
      "text/plain": [
       "<PandasArray>\n",
       "[8841, 6506, 1467, 704, 249, 168, 45, 12, 6, 2]\n",
       "Length: 10, dtype: int64"
      ]
     },
     "execution_count": 63,
     "metadata": {},
     "output_type": "execute_result"
    }
   ],
   "source": [
    "a = a.array"
   ]
  },
  {
   "cell_type": "code",
   "execution_count": 64,
   "metadata": {},
   "outputs": [
    {
     "data": {
      "text/plain": [
       "(<PandasArray>\n",
       " [8841, 6506, 1467, 704, 249, 168, 45, 12, 6, 2]\n",
       " Length: 10, dtype: int64, 18000)"
      ]
     },
     "execution_count": 64,
     "metadata": {},
     "output_type": "execute_result"
    }
   ],
   "source": [
    "a, sum(a)"
   ]
  },
  {
   "cell_type": "code",
   "execution_count": 65,
   "metadata": {},
   "outputs": [
    {
     "data": {
      "text/plain": [
       "[0.49116666666666664,\n",
       " 0.36144444444444446,\n",
       " 0.0815,\n",
       " 0.03911111111111111,\n",
       " 0.013833333333333333,\n",
       " 0.009333333333333334,\n",
       " 0.0025,\n",
       " 0.0006666666666666666,\n",
       " 0.0003333333333333333,\n",
       " 0.00011111111111111112]"
      ]
     },
     "execution_count": 65,
     "metadata": {},
     "output_type": "execute_result"
    }
   ],
   "source": [
    "temp = []\n",
    "w = sum(a)\n",
    "for i in range(len(a)):\n",
    "    temp.append(a[i]/w)\n",
    "temp"
   ]
  },
  {
   "cell_type": "markdown",
   "metadata": {},
   "source": [
    "## Train and test data "
   ]
  },
  {
   "cell_type": "code",
   "execution_count": 5,
   "metadata": {},
   "outputs": [
    {
     "data": {
      "text/plain": [
       "((18000, 887), (14400, 887), (3600, 887), (14400, 1), (3600, 1))"
      ]
     },
     "execution_count": 5,
     "metadata": {},
     "output_type": "execute_result"
    }
   ],
   "source": [
    "from sklearn.model_selection import train_test_split\n",
    "\n",
    "x_train, x_test, y_train, y_test = train_test_split(df.values, labels_df.values, test_size=0.2, random_state=1)\n",
    "df.shape, x_train.shape, x_test.shape, y_train.shape, y_test.shape"
   ]
  },
  {
   "cell_type": "code",
   "execution_count": 6,
   "metadata": {},
   "outputs": [
    {
     "data": {
      "text/plain": [
       "numpy.ndarray"
      ]
     },
     "execution_count": 6,
     "metadata": {},
     "output_type": "execute_result"
    }
   ],
   "source": [
    "type(x_train)"
   ]
  },
  {
   "cell_type": "code",
   "execution_count": null,
   "metadata": {},
   "outputs": [],
   "source": []
  },
  {
   "cell_type": "code",
   "execution_count": null,
   "metadata": {},
   "outputs": [],
   "source": []
  },
  {
   "cell_type": "code",
   "execution_count": null,
   "metadata": {},
   "outputs": [],
   "source": []
  },
  {
   "cell_type": "code",
   "execution_count": null,
   "metadata": {},
   "outputs": [],
   "source": []
  },
  {
   "cell_type": "code",
   "execution_count": null,
   "metadata": {},
   "outputs": [],
   "source": []
  },
  {
   "cell_type": "markdown",
   "metadata": {},
   "source": [
    "## Modeling  "
   ]
  },
  {
   "cell_type": "markdown",
   "metadata": {},
   "source": [
    "### Random forest "
   ]
  },
  {
   "cell_type": "code",
   "execution_count": 18,
   "metadata": {},
   "outputs": [
    {
     "name": "stderr",
     "output_type": "stream",
     "text": [
      "/usr/local/lib/python3.7/site-packages/sklearn/model_selection/_split.py:667: UserWarning: The least populated class in y has only 2 members, which is less than n_splits=5.\n",
      "  % (min_groups, self.n_splits)), UserWarning)\n",
      "/usr/local/lib/python3.7/site-packages/sklearn/model_selection/_validation.py:515: DataConversionWarning: A column-vector y was passed when a 1d array was expected. Please change the shape of y to (n_samples,), for example using ravel().\n",
      "  estimator.fit(X_train, y_train, **fit_params)\n",
      "/usr/local/lib/python3.7/site-packages/sklearn/model_selection/_validation.py:515: DataConversionWarning: A column-vector y was passed when a 1d array was expected. Please change the shape of y to (n_samples,), for example using ravel().\n",
      "  estimator.fit(X_train, y_train, **fit_params)\n",
      "/usr/local/lib/python3.7/site-packages/sklearn/model_selection/_validation.py:515: DataConversionWarning: A column-vector y was passed when a 1d array was expected. Please change the shape of y to (n_samples,), for example using ravel().\n",
      "  estimator.fit(X_train, y_train, **fit_params)\n",
      "/usr/local/lib/python3.7/site-packages/sklearn/model_selection/_validation.py:515: DataConversionWarning: A column-vector y was passed when a 1d array was expected. Please change the shape of y to (n_samples,), for example using ravel().\n",
      "  estimator.fit(X_train, y_train, **fit_params)\n",
      "/usr/local/lib/python3.7/site-packages/sklearn/model_selection/_validation.py:515: DataConversionWarning: A column-vector y was passed when a 1d array was expected. Please change the shape of y to (n_samples,), for example using ravel().\n",
      "  estimator.fit(X_train, y_train, **fit_params)\n",
      "/usr/local/lib/python3.7/site-packages/sklearn/model_selection/_validation.py:515: DataConversionWarning: A column-vector y was passed when a 1d array was expected. Please change the shape of y to (n_samples,), for example using ravel().\n",
      "  estimator.fit(X_train, y_train, **fit_params)\n",
      "/usr/local/lib/python3.7/site-packages/sklearn/model_selection/_validation.py:515: DataConversionWarning: A column-vector y was passed when a 1d array was expected. Please change the shape of y to (n_samples,), for example using ravel().\n",
      "  estimator.fit(X_train, y_train, **fit_params)\n",
      "/usr/local/lib/python3.7/site-packages/sklearn/model_selection/_validation.py:515: DataConversionWarning: A column-vector y was passed when a 1d array was expected. Please change the shape of y to (n_samples,), for example using ravel().\n",
      "  estimator.fit(X_train, y_train, **fit_params)\n",
      "/usr/local/lib/python3.7/site-packages/sklearn/model_selection/_validation.py:515: DataConversionWarning: A column-vector y was passed when a 1d array was expected. Please change the shape of y to (n_samples,), for example using ravel().\n",
      "  estimator.fit(X_train, y_train, **fit_params)\n",
      "/usr/local/lib/python3.7/site-packages/sklearn/model_selection/_validation.py:515: DataConversionWarning: A column-vector y was passed when a 1d array was expected. Please change the shape of y to (n_samples,), for example using ravel().\n",
      "  estimator.fit(X_train, y_train, **fit_params)\n",
      "/usr/local/lib/python3.7/site-packages/sklearn/model_selection/_validation.py:515: DataConversionWarning: A column-vector y was passed when a 1d array was expected. Please change the shape of y to (n_samples,), for example using ravel().\n",
      "  estimator.fit(X_train, y_train, **fit_params)\n",
      "/usr/local/lib/python3.7/site-packages/sklearn/model_selection/_validation.py:515: DataConversionWarning: A column-vector y was passed when a 1d array was expected. Please change the shape of y to (n_samples,), for example using ravel().\n",
      "  estimator.fit(X_train, y_train, **fit_params)\n",
      "/usr/local/lib/python3.7/site-packages/sklearn/model_selection/_validation.py:515: DataConversionWarning: A column-vector y was passed when a 1d array was expected. Please change the shape of y to (n_samples,), for example using ravel().\n",
      "  estimator.fit(X_train, y_train, **fit_params)\n",
      "/usr/local/lib/python3.7/site-packages/sklearn/model_selection/_validation.py:515: DataConversionWarning: A column-vector y was passed when a 1d array was expected. Please change the shape of y to (n_samples,), for example using ravel().\n",
      "  estimator.fit(X_train, y_train, **fit_params)\n",
      "/usr/local/lib/python3.7/site-packages/sklearn/model_selection/_validation.py:515: DataConversionWarning: A column-vector y was passed when a 1d array was expected. Please change the shape of y to (n_samples,), for example using ravel().\n",
      "  estimator.fit(X_train, y_train, **fit_params)\n",
      "/usr/local/lib/python3.7/site-packages/sklearn/model_selection/_validation.py:515: DataConversionWarning: A column-vector y was passed when a 1d array was expected. Please change the shape of y to (n_samples,), for example using ravel().\n",
      "  estimator.fit(X_train, y_train, **fit_params)\n",
      "/usr/local/lib/python3.7/site-packages/sklearn/model_selection/_validation.py:515: DataConversionWarning: A column-vector y was passed when a 1d array was expected. Please change the shape of y to (n_samples,), for example using ravel().\n",
      "  estimator.fit(X_train, y_train, **fit_params)\n",
      "/usr/local/lib/python3.7/site-packages/sklearn/model_selection/_validation.py:515: DataConversionWarning: A column-vector y was passed when a 1d array was expected. Please change the shape of y to (n_samples,), for example using ravel().\n",
      "  estimator.fit(X_train, y_train, **fit_params)\n",
      "/usr/local/lib/python3.7/site-packages/sklearn/model_selection/_validation.py:515: DataConversionWarning: A column-vector y was passed when a 1d array was expected. Please change the shape of y to (n_samples,), for example using ravel().\n",
      "  estimator.fit(X_train, y_train, **fit_params)\n",
      "/usr/local/lib/python3.7/site-packages/sklearn/model_selection/_validation.py:515: DataConversionWarning: A column-vector y was passed when a 1d array was expected. Please change the shape of y to (n_samples,), for example using ravel().\n",
      "  estimator.fit(X_train, y_train, **fit_params)\n",
      "/usr/local/lib/python3.7/site-packages/sklearn/model_selection/_validation.py:515: DataConversionWarning: A column-vector y was passed when a 1d array was expected. Please change the shape of y to (n_samples,), for example using ravel().\n",
      "  estimator.fit(X_train, y_train, **fit_params)\n",
      "/usr/local/lib/python3.7/site-packages/sklearn/model_selection/_validation.py:515: DataConversionWarning: A column-vector y was passed when a 1d array was expected. Please change the shape of y to (n_samples,), for example using ravel().\n",
      "  estimator.fit(X_train, y_train, **fit_params)\n",
      "/usr/local/lib/python3.7/site-packages/sklearn/model_selection/_validation.py:515: DataConversionWarning: A column-vector y was passed when a 1d array was expected. Please change the shape of y to (n_samples,), for example using ravel().\n",
      "  estimator.fit(X_train, y_train, **fit_params)\n",
      "/usr/local/lib/python3.7/site-packages/sklearn/model_selection/_validation.py:515: DataConversionWarning: A column-vector y was passed when a 1d array was expected. Please change the shape of y to (n_samples,), for example using ravel().\n",
      "  estimator.fit(X_train, y_train, **fit_params)\n",
      "/usr/local/lib/python3.7/site-packages/sklearn/model_selection/_validation.py:515: DataConversionWarning: A column-vector y was passed when a 1d array was expected. Please change the shape of y to (n_samples,), for example using ravel().\n",
      "  estimator.fit(X_train, y_train, **fit_params)\n",
      "/usr/local/lib/python3.7/site-packages/sklearn/model_selection/_validation.py:515: DataConversionWarning: A column-vector y was passed when a 1d array was expected. Please change the shape of y to (n_samples,), for example using ravel().\n",
      "  estimator.fit(X_train, y_train, **fit_params)\n",
      "/usr/local/lib/python3.7/site-packages/sklearn/model_selection/_validation.py:515: DataConversionWarning: A column-vector y was passed when a 1d array was expected. Please change the shape of y to (n_samples,), for example using ravel().\n",
      "  estimator.fit(X_train, y_train, **fit_params)\n",
      "/usr/local/lib/python3.7/site-packages/sklearn/model_selection/_validation.py:515: DataConversionWarning: A column-vector y was passed when a 1d array was expected. Please change the shape of y to (n_samples,), for example using ravel().\n",
      "  estimator.fit(X_train, y_train, **fit_params)\n"
     ]
    },
    {
     "name": "stderr",
     "output_type": "stream",
     "text": [
      "/usr/local/lib/python3.7/site-packages/sklearn/model_selection/_validation.py:515: DataConversionWarning: A column-vector y was passed when a 1d array was expected. Please change the shape of y to (n_samples,), for example using ravel().\n",
      "  estimator.fit(X_train, y_train, **fit_params)\n",
      "/usr/local/lib/python3.7/site-packages/sklearn/model_selection/_validation.py:515: DataConversionWarning: A column-vector y was passed when a 1d array was expected. Please change the shape of y to (n_samples,), for example using ravel().\n",
      "  estimator.fit(X_train, y_train, **fit_params)\n",
      "/usr/local/lib/python3.7/site-packages/sklearn/model_selection/_validation.py:515: DataConversionWarning: A column-vector y was passed when a 1d array was expected. Please change the shape of y to (n_samples,), for example using ravel().\n",
      "  estimator.fit(X_train, y_train, **fit_params)\n",
      "/usr/local/lib/python3.7/site-packages/sklearn/model_selection/_validation.py:515: DataConversionWarning: A column-vector y was passed when a 1d array was expected. Please change the shape of y to (n_samples,), for example using ravel().\n",
      "  estimator.fit(X_train, y_train, **fit_params)\n",
      "/usr/local/lib/python3.7/site-packages/sklearn/model_selection/_validation.py:515: DataConversionWarning: A column-vector y was passed when a 1d array was expected. Please change the shape of y to (n_samples,), for example using ravel().\n",
      "  estimator.fit(X_train, y_train, **fit_params)\n",
      "/usr/local/lib/python3.7/site-packages/sklearn/model_selection/_validation.py:515: DataConversionWarning: A column-vector y was passed when a 1d array was expected. Please change the shape of y to (n_samples,), for example using ravel().\n",
      "  estimator.fit(X_train, y_train, **fit_params)\n",
      "/usr/local/lib/python3.7/site-packages/sklearn/model_selection/_validation.py:515: DataConversionWarning: A column-vector y was passed when a 1d array was expected. Please change the shape of y to (n_samples,), for example using ravel().\n",
      "  estimator.fit(X_train, y_train, **fit_params)\n",
      "/usr/local/lib/python3.7/site-packages/sklearn/model_selection/_validation.py:515: DataConversionWarning: A column-vector y was passed when a 1d array was expected. Please change the shape of y to (n_samples,), for example using ravel().\n",
      "  estimator.fit(X_train, y_train, **fit_params)\n",
      "/usr/local/lib/python3.7/site-packages/sklearn/model_selection/_validation.py:515: DataConversionWarning: A column-vector y was passed when a 1d array was expected. Please change the shape of y to (n_samples,), for example using ravel().\n",
      "  estimator.fit(X_train, y_train, **fit_params)\n",
      "/usr/local/lib/python3.7/site-packages/sklearn/model_selection/_validation.py:515: DataConversionWarning: A column-vector y was passed when a 1d array was expected. Please change the shape of y to (n_samples,), for example using ravel().\n",
      "  estimator.fit(X_train, y_train, **fit_params)\n",
      "/usr/local/lib/python3.7/site-packages/sklearn/model_selection/_validation.py:515: DataConversionWarning: A column-vector y was passed when a 1d array was expected. Please change the shape of y to (n_samples,), for example using ravel().\n",
      "  estimator.fit(X_train, y_train, **fit_params)\n",
      "/usr/local/lib/python3.7/site-packages/sklearn/model_selection/_validation.py:515: DataConversionWarning: A column-vector y was passed when a 1d array was expected. Please change the shape of y to (n_samples,), for example using ravel().\n",
      "  estimator.fit(X_train, y_train, **fit_params)\n",
      "/usr/local/lib/python3.7/site-packages/sklearn/model_selection/_validation.py:515: DataConversionWarning: A column-vector y was passed when a 1d array was expected. Please change the shape of y to (n_samples,), for example using ravel().\n",
      "  estimator.fit(X_train, y_train, **fit_params)\n",
      "/usr/local/lib/python3.7/site-packages/sklearn/model_selection/_validation.py:515: DataConversionWarning: A column-vector y was passed when a 1d array was expected. Please change the shape of y to (n_samples,), for example using ravel().\n",
      "  estimator.fit(X_train, y_train, **fit_params)\n",
      "/usr/local/lib/python3.7/site-packages/sklearn/model_selection/_validation.py:515: DataConversionWarning: A column-vector y was passed when a 1d array was expected. Please change the shape of y to (n_samples,), for example using ravel().\n",
      "  estimator.fit(X_train, y_train, **fit_params)\n",
      "/usr/local/lib/python3.7/site-packages/sklearn/model_selection/_validation.py:515: DataConversionWarning: A column-vector y was passed when a 1d array was expected. Please change the shape of y to (n_samples,), for example using ravel().\n",
      "  estimator.fit(X_train, y_train, **fit_params)\n",
      "/usr/local/lib/python3.7/site-packages/sklearn/model_selection/_validation.py:515: DataConversionWarning: A column-vector y was passed when a 1d array was expected. Please change the shape of y to (n_samples,), for example using ravel().\n",
      "  estimator.fit(X_train, y_train, **fit_params)\n",
      "/usr/local/lib/python3.7/site-packages/sklearn/model_selection/_validation.py:515: DataConversionWarning: A column-vector y was passed when a 1d array was expected. Please change the shape of y to (n_samples,), for example using ravel().\n",
      "  estimator.fit(X_train, y_train, **fit_params)\n",
      "/usr/local/lib/python3.7/site-packages/sklearn/model_selection/_validation.py:515: DataConversionWarning: A column-vector y was passed when a 1d array was expected. Please change the shape of y to (n_samples,), for example using ravel().\n",
      "  estimator.fit(X_train, y_train, **fit_params)\n",
      "/usr/local/lib/python3.7/site-packages/sklearn/model_selection/_validation.py:515: DataConversionWarning: A column-vector y was passed when a 1d array was expected. Please change the shape of y to (n_samples,), for example using ravel().\n",
      "  estimator.fit(X_train, y_train, **fit_params)\n",
      "/usr/local/lib/python3.7/site-packages/sklearn/model_selection/_validation.py:515: DataConversionWarning: A column-vector y was passed when a 1d array was expected. Please change the shape of y to (n_samples,), for example using ravel().\n",
      "  estimator.fit(X_train, y_train, **fit_params)\n",
      "/usr/local/lib/python3.7/site-packages/sklearn/model_selection/_validation.py:515: DataConversionWarning: A column-vector y was passed when a 1d array was expected. Please change the shape of y to (n_samples,), for example using ravel().\n",
      "  estimator.fit(X_train, y_train, **fit_params)\n",
      "/usr/local/lib/python3.7/site-packages/sklearn/model_selection/_validation.py:515: DataConversionWarning: A column-vector y was passed when a 1d array was expected. Please change the shape of y to (n_samples,), for example using ravel().\n",
      "  estimator.fit(X_train, y_train, **fit_params)\n",
      "/usr/local/lib/python3.7/site-packages/sklearn/model_selection/_validation.py:515: DataConversionWarning: A column-vector y was passed when a 1d array was expected. Please change the shape of y to (n_samples,), for example using ravel().\n",
      "  estimator.fit(X_train, y_train, **fit_params)\n",
      "/usr/local/lib/python3.7/site-packages/sklearn/model_selection/_validation.py:515: DataConversionWarning: A column-vector y was passed when a 1d array was expected. Please change the shape of y to (n_samples,), for example using ravel().\n",
      "  estimator.fit(X_train, y_train, **fit_params)\n",
      "/usr/local/lib/python3.7/site-packages/sklearn/model_selection/_validation.py:515: DataConversionWarning: A column-vector y was passed when a 1d array was expected. Please change the shape of y to (n_samples,), for example using ravel().\n",
      "  estimator.fit(X_train, y_train, **fit_params)\n",
      "/usr/local/lib/python3.7/site-packages/sklearn/model_selection/_validation.py:515: DataConversionWarning: A column-vector y was passed when a 1d array was expected. Please change the shape of y to (n_samples,), for example using ravel().\n",
      "  estimator.fit(X_train, y_train, **fit_params)\n",
      "/usr/local/lib/python3.7/site-packages/sklearn/model_selection/_validation.py:515: DataConversionWarning: A column-vector y was passed when a 1d array was expected. Please change the shape of y to (n_samples,), for example using ravel().\n",
      "  estimator.fit(X_train, y_train, **fit_params)\n",
      "/usr/local/lib/python3.7/site-packages/sklearn/model_selection/_validation.py:515: DataConversionWarning: A column-vector y was passed when a 1d array was expected. Please change the shape of y to (n_samples,), for example using ravel().\n",
      "  estimator.fit(X_train, y_train, **fit_params)\n"
     ]
    },
    {
     "name": "stderr",
     "output_type": "stream",
     "text": [
      "/usr/local/lib/python3.7/site-packages/sklearn/model_selection/_validation.py:515: DataConversionWarning: A column-vector y was passed when a 1d array was expected. Please change the shape of y to (n_samples,), for example using ravel().\n",
      "  estimator.fit(X_train, y_train, **fit_params)\n",
      "/usr/local/lib/python3.7/site-packages/sklearn/model_selection/_validation.py:515: DataConversionWarning: A column-vector y was passed when a 1d array was expected. Please change the shape of y to (n_samples,), for example using ravel().\n",
      "  estimator.fit(X_train, y_train, **fit_params)\n",
      "/usr/local/lib/python3.7/site-packages/sklearn/model_selection/_validation.py:515: DataConversionWarning: A column-vector y was passed when a 1d array was expected. Please change the shape of y to (n_samples,), for example using ravel().\n",
      "  estimator.fit(X_train, y_train, **fit_params)\n",
      "/usr/local/lib/python3.7/site-packages/sklearn/model_selection/_search.py:739: DataConversionWarning: A column-vector y was passed when a 1d array was expected. Please change the shape of y to (n_samples,), for example using ravel().\n",
      "  self.best_estimator_.fit(X, y, **fit_params)\n"
     ]
    }
   ],
   "source": [
    "from sklearn.model_selection import GridSearchCV\n",
    "from sklearn.metrics import accuracy_score, make_scorer\n",
    "\n",
    "param_grid = {'n_estimators': [10, 100, 1000], 'max_features': [5, 10, 20, 30]}\n",
    "clf = GridSearchCV(RandomForestClassifier(), param_grid, cv=5, scoring=make_scorer(accuracy_score))\n",
    "\n",
    "clf.fit(df, labels_df)\n",
    "\n",
    "preds_Random = clf.predict(test_df)"
   ]
  },
  {
   "cell_type": "code",
   "execution_count": 22,
   "metadata": {},
   "outputs": [
    {
     "data": {
      "text/plain": [
       "GridSearchCV(cv=5, error_score=nan,\n",
       "             estimator=RandomForestClassifier(bootstrap=True, ccp_alpha=0.0,\n",
       "                                              class_weight=None,\n",
       "                                              criterion='gini', max_depth=None,\n",
       "                                              max_features='auto',\n",
       "                                              max_leaf_nodes=None,\n",
       "                                              max_samples=None,\n",
       "                                              min_impurity_decrease=0.0,\n",
       "                                              min_impurity_split=None,\n",
       "                                              min_samples_leaf=1,\n",
       "                                              min_samples_split=2,\n",
       "                                              min_weight_fraction_leaf=0.0,\n",
       "                                              n_estimators=100, n_jobs=None,\n",
       "                                              oob_score=False,\n",
       "                                              random_state=None, verbose=0,\n",
       "                                              warm_start=False),\n",
       "             iid='deprecated', n_jobs=None,\n",
       "             param_grid={'max_features': [5, 10, 20, 30],\n",
       "                         'n_estimators': [10, 100, 1000]},\n",
       "             pre_dispatch='2*n_jobs', refit=True, return_train_score=False,\n",
       "             scoring=make_scorer(accuracy_score), verbose=0)"
      ]
     },
     "execution_count": 22,
     "metadata": {},
     "output_type": "execute_result"
    }
   ],
   "source": [
    "clf"
   ]
  },
  {
   "cell_type": "code",
   "execution_count": 19,
   "metadata": {},
   "outputs": [
    {
     "data": {
      "text/plain": [
       "array([2, 1, 2, ..., 2, 1, 2])"
      ]
     },
     "execution_count": 19,
     "metadata": {},
     "output_type": "execute_result"
    }
   ],
   "source": [
    "preds_Random"
   ]
  },
  {
   "cell_type": "code",
   "execution_count": 55,
   "metadata": {},
   "outputs": [
    {
     "name": "stderr",
     "output_type": "stream",
     "text": [
      "/usr/local/lib/python3.7/site-packages/sklearn/feature_selection/_from_model.py:222: DataConversionWarning: A column-vector y was passed when a 1d array was expected. Please change the shape of y to (n_samples,), for example using ravel().\n",
      "  self.estimator_.fit(X, y, **fit_params)\n"
     ]
    },
    {
     "data": {
      "text/plain": [
       "SelectFromModel(estimator=RandomForestClassifier(bootstrap=True, ccp_alpha=0.0,\n",
       "                                                 class_weight=None,\n",
       "                                                 criterion='gini',\n",
       "                                                 max_depth=None,\n",
       "                                                 max_features='auto',\n",
       "                                                 max_leaf_nodes=None,\n",
       "                                                 max_samples=None,\n",
       "                                                 min_impurity_decrease=0.0,\n",
       "                                                 min_impurity_split=None,\n",
       "                                                 min_samples_leaf=1,\n",
       "                                                 min_samples_split=2,\n",
       "                                                 min_weight_fraction_leaf=0.0,\n",
       "                                                 n_estimators=100, n_jobs=None,\n",
       "                                                 oob_score=False,\n",
       "                                                 random_state=None, verbose=0,\n",
       "                                                 warm_start=False),\n",
       "                max_features=None, norm_order=1, prefit=False, threshold=None)"
      ]
     },
     "execution_count": 55,
     "metadata": {},
     "output_type": "execute_result"
    }
   ],
   "source": [
    "from sklearn.feature_selection import SelectFromModel\n",
    "from sklearn.ensemble import RandomForestClassifier\n",
    "\n",
    "sel = SelectFromModel(RandomForestClassifier(n_estimators = 100))\n",
    "sel.fit(df, labels_df)\n",
    "\n",
    "# selected_feat= df.columns[(sel.get_support())]\n",
    "# len(selected_feat)"
   ]
  },
  {
   "cell_type": "code",
   "execution_count": 53,
   "metadata": {
    "scrolled": true
   },
   "outputs": [
    {
     "name": "stdout",
     "output_type": "stream",
     "text": [
      "Index(['832', '833', '834', '835', '836', '837', '838', '839', '840', '841',\n",
      "       '842', '843', '844', '845', '846', '847', '848', '849', '850', '851',\n",
      "       '852', '853', '854', '855', '856', '857', '858', '859', '860', '861',\n",
      "       '862', '863', '864', '865', '866', '867', '868', '869', '870', '871',\n",
      "       '872', '873', '874', '875', '876', '877', '878', '879'],\n",
      "      dtype='object')\n"
     ]
    }
   ],
   "source": [
    "print(selected_feat)"
   ]
  },
  {
   "cell_type": "code",
   "execution_count": null,
   "metadata": {},
   "outputs": [],
   "source": []
  },
  {
   "cell_type": "code",
   "execution_count": null,
   "metadata": {},
   "outputs": [],
   "source": []
  },
  {
   "cell_type": "code",
   "execution_count": null,
   "metadata": {},
   "outputs": [],
   "source": []
  },
  {
   "cell_type": "code",
   "execution_count": null,
   "metadata": {},
   "outputs": [],
   "source": []
  },
  {
   "cell_type": "code",
   "execution_count": 36,
   "metadata": {},
   "outputs": [],
   "source": [
    "df1 = df.iloc[:,int(selected_feat[0]):int(selected_feat[-1])+1]"
   ]
  },
  {
   "cell_type": "code",
   "execution_count": null,
   "metadata": {},
   "outputs": [],
   "source": []
  },
  {
   "cell_type": "code",
   "execution_count": null,
   "metadata": {},
   "outputs": [],
   "source": []
  },
  {
   "cell_type": "code",
   "execution_count": null,
   "metadata": {},
   "outputs": [],
   "source": []
  },
  {
   "cell_type": "code",
   "execution_count": null,
   "metadata": {},
   "outputs": [],
   "source": []
  },
  {
   "cell_type": "code",
   "execution_count": null,
   "metadata": {},
   "outputs": [],
   "source": []
  },
  {
   "cell_type": "code",
   "execution_count": null,
   "metadata": {},
   "outputs": [],
   "source": []
  },
  {
   "cell_type": "code",
   "execution_count": 38,
   "metadata": {
    "scrolled": true
   },
   "outputs": [
    {
     "name": "stderr",
     "output_type": "stream",
     "text": [
      "/usr/local/lib/python3.7/site-packages/ipykernel_launcher.py:4: DataConversionWarning: A column-vector y was passed when a 1d array was expected. Please change the shape of y to (n_samples,), for example using ravel().\n",
      "  after removing the cwd from sys.path.\n"
     ]
    },
    {
     "data": {
      "text/plain": [
       "RandomForestClassifier(bootstrap=True, ccp_alpha=0.0,\n",
       "                       class_weight='balanced_subsample', criterion='gini',\n",
       "                       max_depth=2, max_features='auto', max_leaf_nodes=None,\n",
       "                       max_samples=None, min_impurity_decrease=0.0,\n",
       "                       min_impurity_split=None, min_samples_leaf=1,\n",
       "                       min_samples_split=2, min_weight_fraction_leaf=0.0,\n",
       "                       n_estimators=100, n_jobs=None, oob_score=False,\n",
       "                       random_state=0, verbose=0, warm_start=False)"
      ]
     },
     "execution_count": 38,
     "metadata": {},
     "output_type": "execute_result"
    }
   ],
   "source": [
    "from sklearn.ensemble import RandomForestClassifier\n",
    "\n",
    "model = RandomForestClassifier(max_depth=2, random_state=0, class_weight = \"balanced_subsample\")\n",
    "model.fit(df1, labels_df)"
   ]
  },
  {
   "cell_type": "code",
   "execution_count": 40,
   "metadata": {},
   "outputs": [
    {
     "name": "stdout",
     "output_type": "stream",
     "text": [
      "[4.77290074e-03 2.06080998e-03 1.69944058e-02 4.57168519e-03\n",
      " 9.22949536e-03 3.17304807e-02 1.14012075e-02 3.68767804e-02\n",
      " 5.86401743e-03 1.03483757e-02 1.59484763e-02 9.22127042e-03\n",
      " 4.47742495e-03 3.21097932e-02 2.39663844e-02 4.78469400e-02\n",
      " 1.70735695e-02 1.02345405e-02 3.47965415e-03 4.11581056e-03\n",
      " 4.44494291e-03 1.23733572e-02 3.10022957e-02 1.09575275e-02\n",
      " 2.47582699e-02 4.14043109e-03 6.93739356e-06 4.93279156e-03\n",
      " 0.00000000e+00 7.97549962e-03 4.80581143e-02 3.73373445e-02\n",
      " 3.81406806e-02 4.20014689e-03 3.58358328e-02 2.98785551e-03\n",
      " 1.69253827e-02 5.37642615e-02 5.54277231e-02 4.47652305e-02\n",
      " 8.29619487e-02 2.74929362e-02 3.76724509e-02 5.77271764e-02\n",
      " 1.72859772e-02 1.52954957e-02 1.82954388e-02 2.90992805e-03]\n"
     ]
    },
    {
     "data": {
      "text/plain": [
       "numpy.ndarray"
      ]
     },
     "execution_count": 40,
     "metadata": {},
     "output_type": "execute_result"
    }
   ],
   "source": [
    "print(model.feature_importances_)\n",
    "preds_RandomForest = model.predict(test_df.iloc[:,int(selected_feat[0]):int(selected_feat[-1])+1])\n",
    "type(model.feature_importances_)"
   ]
  },
  {
   "cell_type": "code",
   "execution_count": 46,
   "metadata": {
    "scrolled": true
   },
   "outputs": [
    {
     "data": {
      "text/plain": [
       "array([8, 8, 3, ..., 3, 7, 3])"
      ]
     },
     "execution_count": 46,
     "metadata": {},
     "output_type": "execute_result"
    }
   ],
   "source": [
    "preds_RandomForest"
   ]
  },
  {
   "cell_type": "markdown",
   "metadata": {},
   "source": [
    "## Post processing "
   ]
  },
  {
   "cell_type": "code",
   "execution_count": 47,
   "metadata": {},
   "outputs": [],
   "source": [
    "pred = preds_RandomForest"
   ]
  },
  {
   "cell_type": "code",
   "execution_count": 48,
   "metadata": {},
   "outputs": [
    {
     "data": {
      "text/plain": [
       "(array([  41.,  212.,  212.,  176.,   15.,   81.,  342., 1788.,    0.,\n",
       "         133.]),\n",
       " array([ 1,  2,  3,  4,  5,  6,  7,  8,  9, 10, 11]),\n",
       " <a list of 10 Patch objects>)"
      ]
     },
     "execution_count": 48,
     "metadata": {},
     "output_type": "execute_result"
    },
    {
     "data": {
      "image/png": "[encoded data removed]",
      "text/plain": [
       "<Figure size 432x288 with 1 Axes>"
      ]
     },
     "metadata": {
      "needs_background": "light"
     },
     "output_type": "display_data"
    }
   ],
   "source": [
    "plt.hist(pred, bins = [i+1 for i in range(11)]) "
   ]
  },
  {
   "cell_type": "code",
   "execution_count": 51,
   "metadata": {},
   "outputs": [],
   "source": [
    "ui = []\n",
    "ui.append('ImageID,Class\\n')\n",
    "for i in range(len(pred)):\n",
    "    ui.append(str( str((i+1)) + ',' + str(pred[i])))\n",
    "\n",
    "file = open('preds.dat',\"w\")\n",
    "file.write(\"\\n\".join(map(lambda x: x, ui)))\n",
    "file.close()"
   ]
  },
  {
   "cell_type": "code",
   "execution_count": null,
   "metadata": {},
   "outputs": [],
   "source": []
  }
 ],
 "metadata": {
  "kernelspec": {
   "display_name": "Python 3",
   "language": "python",
   "name": "python3"
  },
  "language_info": {
   "codemirror_mode": {
    "name": "ipython",
    "version": 3
   },
   "file_extension": ".py",
   "mimetype": "text/x-python",
   "name": "python",
   "nbconvert_exporter": "python",
   "pygments_lexer": "ipython3",
   "version": "3.7.5"
  }
 },
 "nbformat": 4,
 "nbformat_minor": 2
}
